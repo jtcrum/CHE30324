{
 "cells": [
  {
   "cell_type": "markdown",
   "metadata": {},
   "source": [
    "**Import Modules**"
   ]
  },
  {
   "cell_type": "code",
   "execution_count": 6,
   "metadata": {
    "collapsed": true
   },
   "outputs": [],
   "source": [
    "import numpy as np                #handles arrays of values similar to MATLAB\n",
    "from scipy import linalg          #contains certain operators you may need for class\n",
    "import matplotlib.pyplot as plt   #contains everything you need to create plots\n",
    "import sympy as sy\n",
    "from sympy.functions import ln\n",
    "import math"
   ]
  },
  {
   "cell_type": "markdown",
   "metadata": {},
   "source": [
    "**Performing basic math functions**"
   ]
  },
  {
   "cell_type": "code",
   "execution_count": 7,
   "metadata": {},
   "outputs": [
    {
     "name": "stdout",
     "output_type": "stream",
     "text": [
      "2*x = 4\n",
      "x^3 = 8\n",
      "e^x = 7.38905609893\n",
      "e^x = 7.3890560989306495\n",
      "Pi = 3.141592653589793\n"
     ]
    }
   ],
   "source": [
    "x = 2\n",
    "print('2*x =',2*x)        #multiplcation\n",
    "print('x^3 =',x**3)       #exponents\n",
    "print('e^x =',np.exp(x))  #e^x\n",
    "print('e^x =',np.e**x)    #e^x alternate form\n",
    "print('Pi =',np.pi)       #Pi"
   ]
  },
  {
   "cell_type": "markdown",
   "metadata": {},
   "source": [
    "**Creating a function**"
   ]
  },
  {
   "cell_type": "code",
   "execution_count": 14,
   "metadata": {},
   "outputs": [
    {
     "data": {
      "text/plain": [
       "16"
      ]
     },
     "execution_count": 14,
     "metadata": {},
     "output_type": "execute_result"
    }
   ],
   "source": [
    "#'def' starts the function. Variables inside the parentheses are inputs to your function. \n",
    "#Return is what your function will output.\n",
    "#In this example I have created a function that provides the first input raised to the power of the second input. \n",
    "\n",
    "def x2y(x,y):\n",
    "    return x**y\n",
    "\n",
    "x2y(4,2)"
   ]
  },
  {
   "cell_type": "markdown",
   "metadata": {},
   "source": [
    "**Integration**\n",
    "\n",
    "This will integrate a function that you provide. There a number of other methods for numerical integration that can be found online.\n",
    "\n",
    "For our examples we will use:\n",
    "\n",
    "$I = \\int_{0}^{1} ax^2 + b dx$"
   ]
  },
  {
   "cell_type": "code",
   "execution_count": 19,
   "metadata": {
    "collapsed": true
   },
   "outputs": [],
   "source": [
    "from scipy.integrate import quad"
   ]
  },
  {
   "cell_type": "code",
   "execution_count": 20,
   "metadata": {},
   "outputs": [
    {
     "name": "stdout",
     "output_type": "stream",
     "text": [
      "(1.6666666666666667, 1.8503717077085944e-14)\n"
     ]
    }
   ],
   "source": [
    "# First define a function that you want to integrate\n",
    "def integrand(x,a,b):\n",
    "    return a*x**2 + b\n",
    "\n",
    "# Set your constants \n",
    "a = 2\n",
    "b = 1\n",
    "I = quad(integrand, 0, 1, args=(a,b))\n",
    "print(I)\n",
    "# I has two values, the first value is the estimation of the integration, the second value is the upper bound on the error.\n",
    "# Notice that the upper bound on the error is extremely small, this is a good estimation. "
   ]
  },
  {
   "cell_type": "markdown",
   "metadata": {},
   "source": [
    "**Arrays**"
   ]
  },
  {
   "cell_type": "code",
   "execution_count": 8,
   "metadata": {},
   "outputs": [
    {
     "name": "stdout",
     "output_type": "stream",
     "text": [
      "y =\t [1 2 3 4 5]\n",
      "y[0] =\t 1\n",
      "y[2] =\t 3\n",
      "y*x =\t [ 2  4  6  8 10]\n",
      "[y,x] =\t [1 2 3 4 5 6 7 8 9]\n",
      "sum of y elements =\t 15\n",
      "sum of z elements =\t 45\n"
     ]
    }
   ],
   "source": [
    "y = np.array([1,2,3,4,5])             #create an array of values\n",
    "print('y =\\t',y)                      #'\\t' creates an indent to nicely align answers \n",
    "print('y[0] =\\t',y[0])                           #Python starts counting at 0\n",
    "print('y[2] =\\t',y[2])                           #y[2] gives the third element in y (I don't agree with this syntax but what can ya do?)\n",
    "print('y*x =\\t',y*x)\n",
    "\n",
    "x = np.array([6,7,8,9])\n",
    "z = np.concatenate((y,x),axis=None)   #concatenate two arrays\n",
    "print('[y,x] =\\t',z)\n",
    "print('sum of y elements =\\t',np.sum(y))                      #sum the elements of an array\n",
    "print('sum of z elements =\\t',np.sum(z))"
   ]
  },
  {
   "cell_type": "markdown",
   "metadata": {},
   "source": [
    "**for loops**"
   ]
  },
  {
   "cell_type": "code",
   "execution_count": 9,
   "metadata": {},
   "outputs": [
    {
     "name": "stdout",
     "output_type": "stream",
     "text": [
      "Frist Loop\n",
      "0\n",
      "2\n",
      "4\n",
      "6\n",
      "8\n",
      "Second Loop\n",
      "0\n",
      "2\n",
      "4\n",
      "6\n",
      "8\n"
     ]
    }
   ],
   "source": [
    "#This first loop iterates over the elements in an array\n",
    "array = np.array([0,1,2,3,4])\n",
    "print('Frist Loop')\n",
    "for x in array:\n",
    "    print(x*2)\n",
    "\n",
    "#This second loop iterates for x in the range of [0,4], again we have to say '5' because of the way Python counts\n",
    "print('Second Loop')\n",
    "for x in range(5):\n",
    "    print(x*2)"
   ]
  },
  {
   "cell_type": "markdown",
   "metadata": {},
   "source": [
    "**Summation with for loops**\n",
    "\n",
    "$\\sum_{n=1}^{4} 2^{-n}$"
   ]
  },
  {
   "cell_type": "code",
   "execution_count": 10,
   "metadata": {},
   "outputs": [
    {
     "name": "stdout",
     "output_type": "stream",
     "text": [
      "answer =\t 0.9375\n",
      "stored values=\t [0.5, 0.25, 0.125, 0.0625]\n"
     ]
    }
   ],
   "source": [
    "answer = 0                      #Each iteration will be added to this, so we start it at zero\n",
    "storage = []                    #This will be used to store values after each iteration\n",
    "for n in range(1,5):\n",
    "    storage.append(2**(-n))     #The append command adds elements to an array\n",
    "    answer+=2**(-n)             #+= is the same as saying answer = answer + ...\n",
    "print('answer =\\t',answer)\n",
    "print('stored values=\\t',storage)"
   ]
  },
  {
   "cell_type": "markdown",
   "metadata": {},
   "source": [
    "**while loops**"
   ]
  },
  {
   "cell_type": "code",
   "execution_count": 11,
   "metadata": {},
   "outputs": [
    {
     "name": "stdout",
     "output_type": "stream",
     "text": [
      "0\n",
      "2\n",
      "4\n",
      "6\n",
      "8\n"
     ]
    }
   ],
   "source": [
    "#This while loop accomplishes the same thing as the two for loops above\n",
    "x=0\n",
    "while x<5:\n",
    "    print(x*2)\n",
    "    x+=1"
   ]
  },
  {
   "cell_type": "markdown",
   "metadata": {},
   "source": [
    "**if statements**"
   ]
  },
  {
   "cell_type": "code",
   "execution_count": 12,
   "metadata": {},
   "outputs": [
    {
     "name": "stdout",
     "output_type": "stream",
     "text": [
      "Not a winner\n",
      "Not a winner\n",
      "12\n",
      "14\n"
     ]
    }
   ],
   "source": [
    "#Order of your if statements matters. \n",
    "array = np.array([2,4,6,7,11])\n",
    "for x in array:\n",
    "    if x<5:\n",
    "        print('Not a winner')\n",
    "    elif x<10:\n",
    "        print(2*x)\n",
    "    else:\n",
    "        break"
   ]
  },
  {
   "cell_type": "markdown",
   "metadata": {},
   "source": [
    "**Linear Algebra**"
   ]
  },
  {
   "cell_type": "code",
   "execution_count": 13,
   "metadata": {},
   "outputs": [
    {
     "name": "stdout",
     "output_type": "stream",
     "text": [
      "a =\n",
      " [[1 2 3]\n",
      " [4 5 6]\n",
      " [7 8 9]]\n",
      "eigenvalues =\t [  1.61168440e+01+0.j  -1.11684397e+00+0.j  -1.30367773e-15+0.j]\n",
      "eigenvectors =\n",
      " [[-0.23197069 -0.78583024  0.40824829]\n",
      " [-0.52532209 -0.08675134 -0.81649658]\n",
      " [-0.8186735   0.61232756  0.40824829]]\n",
      "a*b =\t [1 4 7]\n"
     ]
    }
   ],
   "source": [
    "#Create a matrix\n",
    "a = np.array([[1,2,3],[4,5,6],[7,8,9]])\n",
    "print('a =\\n',a)\n",
    "\n",
    "#get eigenvalues and eigvenvectors of a\n",
    "w,v = linalg.eig(a) \n",
    "print('eigenvalues =\\t',w)\n",
    "print('eigenvectors =\\n',v)\n",
    "\n",
    "#Matrix multiplication\n",
    "b = np.array([1,0,0])\n",
    "print('a*b =\\t',a@b.T)     #'@' does matrix multiplication, '.T' transposes a matrix or vector"
   ]
  },
  {
   "cell_type": "markdown",
   "metadata": {},
   "source": [
    "**Symbolic Math**"
   ]
  },
  {
   "cell_type": "code",
   "execution_count": 15,
   "metadata": {},
   "outputs": [
    {
     "name": "stdout",
     "output_type": "stream",
     "text": [
      "first derivative =\t 4*x**3\n",
      "second derivative =\t 12*x**2\n",
      "1st derivative at x=2 =\t 32\n",
      "2nd derivative at x=2 =\t 48\n",
      "derivative of ln(x) =\t 1/x\n"
     ]
    }
   ],
   "source": [
    "#This lets us create functions with variables\n",
    "#First define a variable\n",
    "x = sy.Symbol('x')\n",
    "\n",
    "#Next create a function\n",
    "function = x**4\n",
    "\n",
    "der = function.diff(x,1)\n",
    "print('first derivative =\\t',der)\n",
    "\n",
    "der2 = function.diff(x,2)\n",
    "print('second derivative =\\t',der2)\n",
    "\n",
    "#You can substitute back in for symbols now\n",
    "print('1st derivative at x=2 =\\t',der.subs(x,2))\n",
    "print('2nd derivative at x=2 =\\t',der2.subs(x,2))\n",
    "\n",
    "function2 = ln(x)\n",
    "\n",
    "lnder = function2.diff(x,1)\n",
    "print('derivative of ln(x) =\\t',lnder)"
   ]
  },
  {
   "cell_type": "markdown",
   "metadata": {},
   "source": [
    "**Plotting**"
   ]
  },
  {
   "cell_type": "code",
   "execution_count": 16,
   "metadata": {},
   "outputs": [
    {
     "data": {
      "image/png": "[encoded data removed]",
      "text/plain": [
       "<matplotlib.figure.Figure at 0x111309b00>"
      ]
     },
     "metadata": {},
     "output_type": "display_data"
    },
    {
     "data": {
      "image/png": "[encoded data removed]",
      "text/plain": [
       "<matplotlib.figure.Figure at 0x1113c1e10>"
      ]
     },
     "metadata": {},
     "output_type": "display_data"
    }
   ],
   "source": [
    "#Standard plot\n",
    "\n",
    "x = np.linspace(0,10)\n",
    "y = np.sin(x)\n",
    "z = np.cos(x)\n",
    "\n",
    "plt.plot(x,y,x,z)\n",
    "plt.xlabel('Radians');\n",
    "plt.ylabel('Value');\n",
    "plt.title('Standard Plot')\n",
    "plt.legend(['Sin','Cos'])\n",
    "plt.show()\n",
    "\n",
    "#Scatter Plot\n",
    "\n",
    "x = np.linspace(0,10,11)\n",
    "y = np.sin(x)\n",
    "z = np.cos(x)\n",
    "\n",
    "plt.scatter(x,y)\n",
    "plt.scatter(x,z)\n",
    "plt.xlabel('Radians');\n",
    "plt.ylabel('Value');\n",
    "plt.title('Scatter Plot')\n",
    "plt.legend(['Sin','Cos'])\n",
    "plt.show()\n",
    "\n"
   ]
  },
  {
   "cell_type": "markdown",
   "metadata": {},
   "source": [
    "**Math package has useful tools as well**"
   ]
  },
  {
   "cell_type": "code",
   "execution_count": 17,
   "metadata": {},
   "outputs": [
    {
     "name": "stdout",
     "output_type": "stream",
     "text": [
      "5! =\t 120\n",
      "|-3| =\t 3.0\n"
     ]
    }
   ],
   "source": [
    "print('5! =\\t',math.factorial(5))\n",
    "print('|-3| =\\t',math.fabs(-3))"
   ]
  },
  {
   "cell_type": "markdown",
   "metadata": {},
   "source": [
    "**Putting it to use**\n",
    "\n",
    "Use 'for' loops to create Taylor expansions of $ln(1+x)$ centered at 0, with an order of 1, 2, 3, and 4. Plot these Taylor expansions along with the original equation on one plot. Label your plots. \n",
    "\n",
    "As a reminder the formula for a Taylor expansion is: \n",
    "\n",
    "$f(a) + \\sum_{n=1}^{\\infty}\\frac{f^n(a)}{n!}(x-a)^n$\n",
    "\n",
    "Since our expansion is centered at zero, $a=0$."
   ]
  },
  {
   "cell_type": "code",
   "execution_count": 18,
   "metadata": {},
   "outputs": [
    {
     "data": {
      "image/png": "[encoded data removed]",
      "text/plain": [
       "<matplotlib.figure.Figure at 0x1113f1f28>"
      ]
     },
     "metadata": {},
     "output_type": "display_data"
    }
   ],
   "source": [
    "def taylor(function, x0, n, x = sy.Symbol('x')):\n",
    "    i = 0\n",
    "    p = 0\n",
    "    while i <= n:\n",
    "        p = p + (function.diff(x, i).subs(x, x0))/(math.factorial(i))*(x - x0)**i\n",
    "        i += 1\n",
    "    return p\n",
    "\n",
    "x = sy.Symbol('x')\n",
    "f = ln(1+x)\n",
    "z = np.linspace(-2,4)\n",
    "legend = []\n",
    "for order in range(1,5):\n",
    "    p = taylor(f,0,order,x=sy.Symbol('x'))\n",
    "    y = []\n",
    "    for t in z:\n",
    "        y.append(p.subs(x,t))\n",
    "    plt.plot(z,y)\n",
    "    legend.append('order ='+str(order))\n",
    "y = []    \n",
    "for t in z:\n",
    "    y.append(ln(1+t))\n",
    "plt.scatter(z,y)\n",
    "legend.append('exact')\n",
    "plt.ylim([-2,4])\n",
    "plt.xlim([-2,6])\n",
    "plt.legend((legend))\n",
    "plt.show()"
   ]
  },
  {
   "cell_type": "markdown",
   "metadata": {
    "collapsed": true
   },
   "source": [
    "**Additional Resources**\n",
    "\n",
    "* [Code Academy](https://www.codecademy.com/learn/python)\n",
    "* [Official Python Reference](https://docs.python.org/2/reference/)\n",
    "* [Learn Python the Hard Way](https://learnpythonthehardway.org/book/)\n",
    "* Contact me at : **jcrum@nd.edu**\n"
   ]
  },
  {
   "cell_type": "code",
   "execution_count": null,
   "metadata": {
    "collapsed": true
   },
   "outputs": [],
   "source": []
  }
 ],
 "metadata": {
  "kernelspec": {
   "display_name": "Python 3",
   "language": "python",
   "name": "python3"
  },
  "language_info": {
   "codemirror_mode": {
    "name": "ipython",
    "version": 3
   },
   "file_extension": ".py",
   "mimetype": "text/x-python",
   "name": "python",
   "nbconvert_exporter": "python",
   "pygments_lexer": "ipython3",
   "version": "3.6.3"
  }
 },
 "nbformat": 4,
 "nbformat_minor": 2
}
